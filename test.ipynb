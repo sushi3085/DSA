{
 "cells": [
  {
   "cell_type": "markdown",
   "metadata": {},
   "source": [
    "## `Finding counts of the substring`"
   ]
  },
  {
   "cell_type": "code",
   "execution_count": null,
   "metadata": {},
   "outputs": [],
   "source": [
    "def find_substring_counts(s1, s2):\n",
    "\tcount = 0\n",
    "\tfor i in range(len(s1)-len(s2)+1):\n",
    "\t\tif s1[i] == s2[0]:\n",
    "\t\t\tfor j in range(len(s2)):\n",
    "\t\t\t\tif s1[i+j]!=s2[j]:\n",
    "\t\t\t\t\tbreak\n",
    "\t\t\telse:\n",
    "\t\t\t\tcount+=1\n",
    "\treturn count\n",
    "find_substring_counts(\"bbaabbaabbbbaabb\",\"ab\")"
   ]
  },
  {
   "cell_type": "markdown",
   "metadata": {},
   "source": [
    "## `123.Best time to buy and sell stock III`\n",
    "### `<waiting solved>`"
   ]
  },
  {
   "cell_type": "code",
   "execution_count": null,
   "metadata": {},
   "outputs": [
    {
     "name": "stdout",
     "output_type": "stream",
     "text": [
      "4\n",
      "6\n",
      "0\n",
      "0\n"
     ]
    }
   ],
   "source": [
    "def solve(prices):\n",
    "\tcleaned = [prices[0]]\n",
    "\tcur_max = None\n",
    "\tclimbed = False\n",
    "\tfor i in range(1,len(prices)):\n",
    "\t\tif prices[i-1]>prices[i]:\n",
    "\t\t\tif climbed:\n",
    "\t\t\t\tcleaned.append(cur_max)\n",
    "\t\t\t\tcleaned.append(prices[i])\n",
    "\t\telse:\n",
    "\t\t\tclimbed = True\n",
    "\t\t\tcur_max = prices[i]\n",
    "\tcleaned.append(prices[-1])\n",
    "\n",
    "\tprofits = []\n",
    "\tfor i in range(0, len(cleaned), 2):\n",
    "\t\tprofits.append(cleaned[i+1] - cleaned[i])\n",
    "\tprofits.sort()\n",
    "\treturn max(0, sum(profits[-2:]))\n",
    "\t# print(profits)\n",
    "\t# if len(profits)<2 or max(profits)<=0:\n",
    "\t# \treturn 0\n",
    "\t# return profits[-1]+profits[-2]\n",
    "\n",
    "print(\n",
    "\tsolve([1,2,3,4,5])\n",
    ")\n",
    "print(\n",
    "\tsolve([3,3,5,0,0,3,1,4])\n",
    ")\n",
    "print(\n",
    "\tsolve([7,5,4,3,1])\n",
    ")\n",
    "print(\n",
    "\tsolve([1])\n",
    ")\n",
    "# [3,3,5,0,0,3,1,4], [1,2,3,4,5], [7,5,4,3,1], [1], [2,1,4]"
   ]
  }
 ],
 "metadata": {
  "language_info": {
   "name": "plaintext"
  },
  "orig_nbformat": 4
 },
 "nbformat": 4,
 "nbformat_minor": 2
}
