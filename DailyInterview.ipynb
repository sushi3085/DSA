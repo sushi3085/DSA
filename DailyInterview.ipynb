{
 "cells": [
  {
   "cell_type": "code",
   "execution_count": null,
   "metadata": {},
   "outputs": [],
   "source": [
    "Given an array of n positive integers and a positive integer s,\n",
    "find the minimal length of a contiguous subarray of which the sum ≥ s.\n",
    "If there isn't one, return 0 instead.\n",
    "\n",
    "Example:\n",
    "Input: s = 7, nums = [2,3,1,2,4,3]\n",
    "Output: 2\n",
    "Explanation: the subarray [4,3] has the minimal length under the problem constraint.\n"
   ]
  },
  {
   "cell_type": "markdown",
   "metadata": {},
   "source": [
    "Hi, here's your problem today. This problem was recently asked by Amazon:\n",
    "\n",
    "You are given a 2D array of characters,\n",
    "and a target string. Return whether or not the word target word exists in the matrix.\n",
    "Unlike a standard word search, the word must be either going left-to-right, or top-to-bottom in the matrix.\n",
    "\n",
    "Example:\n",
    "\n",
    "[['F', 'A', 'C', 'I'],\n",
    " ['O', 'B', 'Q', 'P'],\n",
    " ['A', 'N', 'O', 'B'],\n",
    " ['M', 'A', 'S', 'S']]\n",
    "\n",
    "Given this matrix, and the target word FOAM, you should return true, as it can be found going up-to-down in the first column."
   ]
  }
 ],
 "metadata": {
  "language_info": {
   "name": "plaintext"
  },
  "orig_nbformat": 4
 },
 "nbformat": 4,
 "nbformat_minor": 2
}
